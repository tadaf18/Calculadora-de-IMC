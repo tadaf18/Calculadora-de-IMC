{
  "nbformat": 4,
  "nbformat_minor": 0,
  "metadata": {
    "colab": {
      "provenance": [],
      "authorship_tag": "ABX9TyPM+nIc/IJC7sSOjQ+s6r33",
      "include_colab_link": true
    },
    "kernelspec": {
      "name": "python3",
      "display_name": "Python 3"
    },
    "language_info": {
      "name": "python"
    }
  },
  "cells": [
    {
      "cell_type": "markdown",
      "metadata": {
        "id": "view-in-github",
        "colab_type": "text"
      },
      "source": [
        "<a href=\"https://colab.research.google.com/github/tadaf18/Calculadora-de-IMC/blob/main/Calculadora_de_IMC.ipynb\" target=\"_parent\"><img src=\"https://colab.research.google.com/assets/colab-badge.svg\" alt=\"Open In Colab\"/></a>"
      ]
    },
    {
      "cell_type": "code",
      "source": [
        "print(\"Calculadora de IMC\")\n",
        "peso = float(input('Digite seu peso (kg); '))\n",
        "altura = float(input('Digite sua altura (m); '))\n",
        "imc = peso / (altura ** 2)\n",
        "print(f'Seu IMC é: {imc: .2f}')\n",
        "print(f'Seu IMC é: {imc: .2f}')\n",
        "if imc < 18.5:\n",
        "  print(\"Abaixo do peso\")\n",
        "elif imc < 25:\n",
        "  print(\"Peso ideal\")\n",
        "else:\n",
        "  print('Acima do peso')"
      ],
      "metadata": {
        "colab": {
          "base_uri": "https://localhost:8080/"
        },
        "id": "foRJSAxUcSPT",
        "outputId": "81ed9177-5a69-429f-a766-59ba519d58b8"
      },
      "execution_count": 15,
      "outputs": [
        {
          "output_type": "stream",
          "name": "stdout",
          "text": [
            "Calculadora de IMC\n",
            "Digite seu peso (kg); 85\n",
            "Digite sua altura (m); 1.79\n",
            "Seu IMC é:  26.53\n",
            "Seu IMC é:  26.53\n",
            "Acima do peso\n"
          ]
        }
      ]
    }
  ]
}